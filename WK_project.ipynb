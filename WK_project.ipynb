{
  "cells": [
    {
      "cell_type": "markdown",
      "metadata": {
        "id": "view-in-github",
        "colab_type": "text"
      },
      "source": [
        "<a href=\"https://colab.research.google.com/github/Tymass/lung-cancer-classifier-/blob/main/WK_project.ipynb\" target=\"_parent\"><img src=\"https://colab.research.google.com/assets/colab-badge.svg\" alt=\"Open In Colab\"/></a>"
      ]
    },
    {
      "cell_type": "markdown",
      "source": [
        "## Dataset import\n",
        "[Dataset URL](https://www.kaggle.com/datasets/dishantrathi20/ct-scan-images-for-lung-cancer)"
      ],
      "metadata": {
        "id": "tfLi_vetu67f"
      }
    },
    {
      "cell_type": "code",
      "execution_count": null,
      "metadata": {
        "collapsed": true,
        "id": "quLUzXf3NcU3"
      },
      "outputs": [],
      "source": [
        "%%bash\n",
        "export DATASET_PATH_ZIP=/content/dataset.zip\n",
        "export DATASET_KAGGLE_PATH=https://www.kaggle.com/api/v1/datasets/download/dishantrathi20/ct-scan-images-for-lung-cancer\n",
        "curl -L -so $DATASET_PATH_ZIP $DATASET_KAGGLE_PATH\n",
        "unzip -qo $DATASET_PATH_ZIP\n",
        "rm -rf $DATASET_PATH_ZIP"
      ]
    },
    {
      "cell_type": "markdown",
      "source": [
        "Optionally you can delete selected folders"
      ],
      "metadata": {
        "id": "8vpWLcuV8Ryz"
      }
    },
    {
      "cell_type": "code",
      "source": [
        "%%bash\n",
        "\n",
        "# \"Begin cases\", \"Malignant cases\", \"adenocarcinoma_left.lower.lobe_T2_N0_M0_Ib\", \"large.cell.carcinoma_left.hilum_T2_N2_M0_IIIa\", \"squamous.cell.carcinoma_left.hilum_T1_N2_M0_IIIa\", \"noraml\"\n",
        "\n",
        "DATASET_TRAIN_PATH=/content/LungcancerDataSet/Data/train\n",
        "DATASET_TEST_PATH=/content/LungcancerDataSet/Data/test\n",
        "DATASET_VALID_PATH=/content/LungcancerDataSet/Data/valid\n",
        "\n",
        "TO_REMOVE=(\n",
        "  \"adenocarcinoma_left.lower.lobe_T2_N0_M0_Ib\"\n",
        "  \"large.cell.carcinoma_left.hilum_T2_N2_M0_IIIa\"\n",
        "  \"squamous.cell.carcinoma_left.hilum_T1_N2_M0_IIIa\"\n",
        ")\n",
        "TO_REMOVE_TEST=(\n",
        "  \"adenocarcinoma\"\n",
        "  \"large.cell.carcinoma\"\n",
        "  \"squamous.cell.carcinoma\"\n",
        ")\n",
        "\n",
        "for file in \"${TO_REMOVE[@]}\"; do\n",
        "  rm -rf \"$DATASET_TRAIN_PATH/$file\"\n",
        "  rm -rf \"$DATASET_VALID_PATH/$file\"\n",
        "done\n",
        "\n",
        "for file in \"${TO_REMOVE_TEST[@]}\"; do\n",
        "  rm -rf \"$DATASET_TEST_PATH/$file\"\n",
        "done"
      ],
      "metadata": {
        "id": "3Foia2qf0VdB"
      },
      "execution_count": null,
      "outputs": []
    },
    {
      "cell_type": "markdown",
      "source": [
        "## Libraries import"
      ],
      "metadata": {
        "id": "HZ9k1TvxwBy-"
      }
    },
    {
      "cell_type": "code",
      "execution_count": null,
      "metadata": {
        "id": "it8jIRV1-SrV"
      },
      "outputs": [],
      "source": [
        "import numpy as np\n",
        "from torch.utils.data import DataLoader, Dataset\n",
        "import torch\n",
        "from sklearn.metrics import accuracy_score\n",
        "from torch.utils.data import DataLoader, Dataset\n",
        "from tensorflow.keras.applications import VGG19\n",
        "from tensorflow.keras.applications.vgg19 import preprocess_input\n",
        "from tensorflow.keras.models import Model\n",
        "from tensorflow.keras.preprocessing.image import load_img, img_to_array\n",
        "import tensorflow as tf\n",
        "from tensorflow.keras import layers, models, optimizers\n",
        "from tensorflow.keras.preprocessing import image_dataset_from_directory\n",
        "from tensorflow.keras.callbacks import EarlyStopping, ModelCheckpoint, ReduceLROnPlateau\n",
        "import os\n",
        "import matplotlib.pyplot as plt"
      ]
    },
    {
      "cell_type": "markdown",
      "source": [
        "## Model definitions"
      ],
      "metadata": {
        "id": "dN0FuIi_wJQC"
      }
    },
    {
      "cell_type": "code",
      "execution_count": null,
      "metadata": {
        "id": "0UeUH-n3Ra9L"
      },
      "outputs": [],
      "source": [
        "def get_fine_tuned_vgg_model(num_classes):\n",
        "    base_model = tf.keras.applications.VGG19(weights='imagenet', include_top=False, input_shape=(224, 224, 3))\n",
        "\n",
        "    for layer in base_model.layers[:-5]:\n",
        "      layer.trainable = False\n",
        "\n",
        "    # base_model.trainable = False\n",
        "\n",
        "    base_model.summary()\n",
        "    model = models.Sequential([\n",
        "        base_model,\n",
        "        layers.Flatten(),\n",
        "        layers.Dense(4096, activation='relu'),\n",
        "        layers.Dropout(0.7),\n",
        "        layers.Dense(num_classes, activation='softmax')\n",
        "    ])\n",
        "\n",
        "    return model\n",
        "\n",
        "def get_fine_tuned_densenet_model(num_classes):\n",
        "    base_model = tf.keras.applications.DenseNet201(weights='imagenet', include_top=False, input_shape=(224, 224, 3))\n",
        "\n",
        "    for layer in base_model.layers[:-10]:\n",
        "      layer.trainable = False\n",
        "\n",
        "    # base_model.trainable = False\n",
        "    base_model.summary()\n",
        "    model = models.Sequential([\n",
        "        base_model,\n",
        "        layers.Flatten(),\n",
        "        layers.Dense(2048, activation='relu'),\n",
        "        layers.Dropout(0.7),\n",
        "        layers.Dense(num_classes, activation='softmax')\n",
        "    ])\n",
        "\n",
        "    return model\n",
        "\n",
        "def get_fine_tuned_resnet_model(num_classes):\n",
        "    base_model = tf.keras.applications.ResNet50(weights='imagenet', include_top=False, input_shape=(224, 224, 3))\n",
        "\n",
        "    for layer in base_model.layers[:-10]:\n",
        "      layer.trainable = False\n",
        "\n",
        "    # base_model.trainable = False\n",
        "    base_model.summary()\n",
        "    model = models.Sequential([\n",
        "        base_model,\n",
        "        layers.GlobalAveragePooling2D(),\n",
        "        layers.Dense(2048, activation='relu'),\n",
        "        layers.Dropout(0.8),\n",
        "        layers.Dense(num_classes, activation='softmax')\n",
        "    ])\n",
        "\n",
        "    return model\n",
        "\n",
        "def get_fine_tuned_efficientnet_model(num_classes):\n",
        "    base_model = tf.keras.applications.EfficientNetB0(weights='imagenet', include_top=False, input_shape=(224, 224, 3))\n",
        "\n",
        "    for layer in base_model.layers[:-10]:\n",
        "       layer.trainable = False\n",
        "\n",
        "    # base_model.trainable = False\n",
        "    base_model.summary()\n",
        "    model = models.Sequential([\n",
        "        base_model,\n",
        "        layers.GlobalAveragePooling2D(),\n",
        "        layers.Dense(512, activation='relu'),\n",
        "        layers.Dropout(0.7),\n",
        "        layers.Dense(num_classes, activation='softmax')\n",
        "    ])\n",
        "\n",
        "    return model"
      ]
    },
    {
      "cell_type": "markdown",
      "source": [
        "## Function definitions"
      ],
      "metadata": {
        "id": "s13JntMAwOjf"
      }
    },
    {
      "cell_type": "code",
      "execution_count": null,
      "metadata": {
        "id": "_URheaTl1757"
      },
      "outputs": [],
      "source": [
        "def extract_features(model, dataloader, device):\n",
        "    features = []\n",
        "    labels = []\n",
        "    with torch.no_grad():\n",
        "        for images, batch_labels in dataloader:\n",
        "            images = images.to(device)\n",
        "            batch_features = model(images).cpu().numpy()\n",
        "            features.append(batch_features)\n",
        "            labels.append(batch_labels.numpy())\n",
        "    return np.vstack(features), np.hstack(labels)\n",
        "\n",
        "def calculate_centroids(features, labels):\n",
        "    unique_labels = np.unique(labels)\n",
        "    centroids = {}\n",
        "    for label in unique_labels:\n",
        "        class_features = features[labels == label]\n",
        "        centroids[label] = np.mean(class_features, axis=0)\n",
        "    return centroids\n",
        "\n",
        "def classify_image(query_features, centroids, metric='cosine'):\n",
        "    from scipy.spatial.distance import cosine, euclidean, cityblock\n",
        "\n",
        "    distances = {}\n",
        "    for label, centroid in centroids.items():\n",
        "        if metric == 'cosine':\n",
        "            distances[label] = 1 - cosine(query_features, centroid)\n",
        "        elif metric == 'euclidean':\n",
        "            distances[label] = euclidean(query_features, centroid)\n",
        "        elif metric == 'manhattan':\n",
        "            distances[label] = cityblock(query_features, centroid)\n",
        "\n",
        "    return max(distances, key=distances.get) if metric == 'cosine' else min(distances, key=distances.get)\n",
        "\n",
        "def evaluate_model(test_features, test_labels, centroids, metric='cosine'):\n",
        "    predictions = []\n",
        "    for feature in test_features:\n",
        "        predicted_label = classify_image(feature, centroids, metric)\n",
        "        predictions.append(predicted_label)\n",
        "    accuracy = accuracy_score(test_labels, predictions)\n",
        "    return accuracy\n",
        "\n",
        "\n",
        "def train_model(model, train_dataset, valid_dataset, epochs=100, lr=0.0001):\n",
        "    model.compile(optimizer=optimizers.Adam(learning_rate=lr),\n",
        "                  loss='sparse_categorical_crossentropy',\n",
        "                  metrics=['accuracy'])\n",
        "\n",
        "    # Early stopping\n",
        "    # early_stopping = EarlyStopping(monitor='val_loss', patience=2, restore_best_weights=True)\n",
        "    # lr_scheduler = ReduceLROnPlateau(monitor='val_loss', factor=0.5, patience=2, verbose=1, min_lr=1e-6)\n",
        "\n",
        "    default_callbacks = [\n",
        "        EarlyStopping(monitor='val_loss', patience=5, restore_best_weights=True),\n",
        "        ReduceLROnPlateau(monitor='val_loss', factor=0.5, patience=3, verbose=1, min_lr=1e-6)\n",
        "    ]\n",
        "\n",
        "    history = model.fit(\n",
        "        train_dataset,\n",
        "        validation_data=valid_dataset,\n",
        "        epochs=epochs,\n",
        "        callbacks=default_callbacks\n",
        "    )\n",
        "\n",
        "    return model, history\n",
        "\n",
        "def get_feature_extractor(model):\n",
        "    base_model = model.layers[0]\n",
        "\n",
        "    pooling_output = layers.GlobalAveragePooling2D()(base_model.output)\n",
        "    dense_output = layers.Dense(512, activation='relu')(pooling_output)\n",
        "    feature_extractor = Model(inputs=base_model.input, outputs=dense_output)\n",
        "    return feature_extractor\n",
        "\n",
        "\n",
        "def extract_features_from_finetuned(model, dataloader):\n",
        "    features = []\n",
        "    labels = []\n",
        "    feature_extractor = get_feature_extractor(model)\n",
        "\n",
        "    # feature_extractor.summary()\n",
        "    for images, batch_labels in dataloader:\n",
        "        feature_batch = feature_extractor.predict(images)\n",
        "        print(f'Extracted features shape: {feature_batch.shape}')\n",
        "        features.append(feature_batch)\n",
        "        labels.append(batch_labels)\n",
        "\n",
        "    return np.vstack(features), np.hstack(labels)"
      ]
    },
    {
      "cell_type": "markdown",
      "source": [
        "## Fine-tuning"
      ],
      "metadata": {
        "id": "X4pzH1N7wmfw"
      }
    },
    {
      "cell_type": "code",
      "execution_count": null,
      "metadata": {
        "id": "ypqo9ajSHOwk"
      },
      "outputs": [],
      "source": [
        "if __name__ == \"__main__\":\n",
        "\n",
        "    train_dir = \"LungcancerDataSet/Data/train\"\n",
        "    valid_dir = \"LungcancerDataSet/Data/valid\"\n",
        "    test_dir = \"LungcancerDataSet/Data/test\"\n",
        "\n",
        "    train_dataset = image_dataset_from_directory(\n",
        "        train_dir,\n",
        "        image_size=(224, 224),\n",
        "        batch_size=64,\n",
        "        label_mode='int'\n",
        "    )\n",
        "\n",
        "    valid_dataset = image_dataset_from_directory(\n",
        "        valid_dir,\n",
        "        image_size=(224, 224),\n",
        "        batch_size=64,\n",
        "        label_mode='int'\n",
        "    )\n",
        "\n",
        "    test_dataset = image_dataset_from_directory(\n",
        "        test_dir,\n",
        "        image_size=(224, 224),\n",
        "        batch_size=64,\n",
        "        label_mode='int'\n",
        "    )\n",
        "\n",
        "    model = get_fine_tuned_vgg_model(num_classes=3)\n",
        "    model.summary()\n",
        "    model, history = train_model(model, train_dataset, valid_dataset, epochs=100)"
      ]
    },
    {
      "cell_type": "markdown",
      "source": [
        "## Embedded space extraction"
      ],
      "metadata": {
        "id": "USmZmZZWwseU"
      }
    },
    {
      "cell_type": "code",
      "execution_count": null,
      "metadata": {
        "id": "EjqdXEs1A96F",
        "collapsed": true
      },
      "outputs": [],
      "source": [
        "train_features, train_labels = extract_features_from_finetuned(model, train_dataset)\n",
        "test_features, test_labels = extract_features_from_finetuned(model, test_dataset)"
      ]
    },
    {
      "cell_type": "code",
      "source": [
        "centroids = calculate_centroids(train_features, train_labels)\n",
        "\n",
        "accuracy = evaluate_model(test_features, test_labels, centroids, metric='euclidean')\n",
        "print(f\"Accuracy after fine-tuning: {accuracy:.2f}\")"
      ],
      "metadata": {
        "id": "4fgU2GeWCZFW"
      },
      "execution_count": null,
      "outputs": []
    },
    {
      "cell_type": "markdown",
      "source": [
        "# Densenet120\n",
        "cosine: 0.57\n",
        "\n",
        "euc: 0.29\n",
        "\n",
        "manh: 0.05\n",
        "\n",
        "# VGG19\n",
        "cosine: 0.43\n",
        "\n",
        "euc: 0.08\n",
        "\n",
        "manh: 0.05\n",
        "# EfficientnetB0\n",
        "cosine: 0.57\n",
        "\n",
        "euc: 0.46\n",
        "\n",
        "manh: 0.05\n",
        "#Resnet50\n",
        "cosine: 0.48\n",
        "\n",
        "euc: 0.56\n",
        "\n",
        "manh: 0.28"
      ],
      "metadata": {
        "id": "54O58s8UU1Ob"
      }
    },
    {
      "cell_type": "code",
      "source": [
        "centroids = calculate_centroids(train_features, train_labels)\n",
        "for label, centroid in centroids.items():\n",
        "    print(f'Centroid shape: {centroid.shape}')\n",
        "    print(f'Centroid for label {label}: {centroid[:5]}')"
      ],
      "metadata": {
        "id": "BVaeR97cE3rR",
        "collapsed": true
      },
      "execution_count": null,
      "outputs": []
    },
    {
      "cell_type": "markdown",
      "source": [
        "## Training summary"
      ],
      "metadata": {
        "id": "WYIOg_Azw4XZ"
      }
    },
    {
      "cell_type": "code",
      "execution_count": null,
      "metadata": {
        "id": "IGiXa5G68R_i"
      },
      "outputs": [],
      "source": [
        "def plot_training_history(history):\n",
        "    plt.figure(figsize=(12, 6))\n",
        "    plt.subplot(1, 2, 1)\n",
        "    plt.plot(history.history['accuracy'], label='Training Accuracy')\n",
        "    plt.plot(history.history['val_accuracy'], label='Validation Accuracy')\n",
        "    plt.title('Accuracy over epochs')\n",
        "    plt.xlabel('Epochs')\n",
        "    plt.ylabel('Accuracy')\n",
        "    plt.legend()\n",
        "\n",
        "    plt.subplot(1, 2, 2)\n",
        "    plt.plot(history.history['loss'], label='Training Loss')\n",
        "    plt.plot(history.history['val_loss'], label='Validation Loss')\n",
        "    plt.title('Loss over epochs')\n",
        "    plt.xlabel('Epochs')\n",
        "    plt.ylabel('Loss')\n",
        "    plt.legend()\n",
        "\n",
        "    plt.tight_layout()\n",
        "    plt.show()\n",
        "\n",
        "plot_training_history(history)"
      ]
    }
  ],
  "metadata": {
    "accelerator": "GPU",
    "colab": {
      "gpuType": "T4",
      "provenance": [],
      "include_colab_link": true
    },
    "kernelspec": {
      "display_name": "Python 3",
      "name": "python3"
    },
    "language_info": {
      "name": "python"
    }
  },
  "nbformat": 4,
  "nbformat_minor": 0
}